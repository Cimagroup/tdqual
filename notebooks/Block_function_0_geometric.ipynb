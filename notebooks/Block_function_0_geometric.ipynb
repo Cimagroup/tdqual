{
 "cells": [
  {
   "cell_type": "markdown",
   "id": "9f75d26c-d730-44d5-8ce1-ba2b78ac8aa6",
   "metadata": {},
   "source": [
    "# Geometric Intution + General matchings\n",
    "\n",
    "In this notebook, we visit an example where we explore the geometric interpretation of the block function in dimension 0."
   ]
  },
  {
   "cell_type": "code",
   "execution_count": null,
   "id": "935bf1c5-1fdf-4ae7-ba4f-d2e746c5c30b",
   "metadata": {},
   "outputs": [],
   "source": [
    "import numpy as np\n",
    "import matplotlib.pyplot as plt\n",
    "import scipy.spatial.distance as dist\n",
    "\n",
    "import tdqual.topological_data_quality_0 as tdq\n",
    "plots_dir = \"plots/geom_interpretation\"\n",
    "\n",
    "import os \n",
    "os.makedirs(plots_dir, exist_ok=True)"
   ]
  },
  {
   "cell_type": "markdown",
   "id": "292ae900-4476-4fcc-a4f5-b27986dfabd9",
   "metadata": {},
   "source": [
    "Create a pair $X \\subseteq Y$ such that it leads to an interesting matching."
   ]
  },
  {
   "cell_type": "code",
   "execution_count": null,
   "id": "26472366-3d42-4df6-b9f6-867c674fda6c",
   "metadata": {},
   "outputs": [],
   "source": [
    "Z = []\n",
    "Z = [[0,0], [1,0], [3,0]]\n",
    "X_indices = [0,1,2]\n",
    "for idx in range(1, 20):\n",
    "    if idx ==10:\n",
    "        continue\n",
    "    angle = np.pi * (1 + idx/20)\n",
    "    Z.append([1.5 + 1.5*np.cos(angle), 1.5*np.sin(angle)])\n",
    "# Next, add further points \n",
    "Z += [[1+0.2*i, 0] for i in range(1,7)]\n",
    "Z = np.array(Z)"
   ]
  },
  {
   "cell_type": "code",
   "execution_count": null,
   "id": "192f77ad-b399-41e5-9eff-177341b29d5a",
   "metadata": {},
   "outputs": [],
   "source": [
    "fig, ax = plt.subplots(figsize=(5,3))\n",
    "X = Z[X_indices]\n",
    "ax.scatter(Z[:,0], Z[:,1], c=\"blue\", zorder=1)\n",
    "ax.scatter(X[:,0], X[:,1], c=\"red\", zorder=2, marker=\"X\", s=150)\n",
    "ax.set_aspect(\"equal\")\n",
    "fig.tight_layout()\n",
    "plt.savefig(f\"{plots_dir}/points_example.png\")"
   ]
  },
  {
   "cell_type": "markdown",
   "id": "c324b239-b409-4f79-a3ce-5f8e4208fe34",
   "metadata": {},
   "source": [
    "Now, we are ready to compute the block function $\\textrm{PH}_0(X)\\rightarrow \\textrm{PH}_0(Y)$"
   ]
  },
  {
   "cell_type": "code",
   "execution_count": null,
   "id": "123bc543-92c3-455e-abe9-3ffa60ada54d",
   "metadata": {},
   "outputs": [],
   "source": [
    "filtration_list_X, pairs_arr_X = tdq.mst_edge_filtration(X) # MST(X)\n",
    "filtration_list_Z, pairs_arr_Z = tdq.mst_edge_filtration(Z) # MST(Z)\n",
    "# TMT\n",
    "TMT_X_pairs = tdq.compute_tmt_pairs(filtration_list_X, pairs_arr_X)\n",
    "TMT_Z_pairs = tdq.compute_tmt_pairs(filtration_list_Z, pairs_arr_Z)\n",
    "indices_X_Z = np.max(TMT_Z_pairs, axis=1)<X.shape[0]\n",
    "TMT_X_Z_pairs = TMT_Z_pairs[indices_X_Z]\n",
    "indices_X_Z = np.nonzero(indices_X_Z)[0]\n",
    "FX = tdq.get_inclusion_matrix(TMT_X_pairs, TMT_X_Z_pairs) # Associated matrix\n",
    "matchingX = tdq.get_inclusion_matrix_pivots(FX, Z.shape[0]) # Matching in TMT_X_Z\n",
    "matching =[indices_X_Z[i] for i in matchingX] # Matching in all TMT_Z\n",
    "# Arrays for filtrations \n",
    "filt_X = np.array(filtration_list_X)\n",
    "filt_Z = np.array(filtration_list_Z)"
   ]
  },
  {
   "cell_type": "markdown",
   "id": "af3a0ceb-bab9-4c8b-8b15-6b5576f0465b",
   "metadata": {},
   "source": [
    "Now, we plot the matching using a geometric intuition."
   ]
  },
  {
   "cell_type": "code",
   "execution_count": null,
   "id": "23737258-ab51-4872-a709-ffedeef7c3c1",
   "metadata": {},
   "outputs": [],
   "source": [
    "from importlib import reload\n",
    "\n",
    "from tdqual.geometric import plot_geometric_matching"
   ]
  },
  {
   "cell_type": "code",
   "execution_count": null,
   "id": "ea40071b-0925-425e-a831-5fb03a283948",
   "metadata": {},
   "outputs": [],
   "source": [
    "fig, ax = plt.subplots(nrows=3, ncols=4, figsize=(10,4))\n",
    "for idx, pair_ab in enumerate([[0,24], [0,25],[1,24]]):\n",
    "    a = filt_X[pair_ab[0]]\n",
    "    b = filt_Z[pair_ab[1]]\n",
    "    plot_geometric_matching(a, b, X_indices, Z, filt_X, filt_Z, pairs_arr_X, pairs_arr_Z, ax[idx], labelsize=6)\n",
    "plt.tight_layout()\n",
    "plt.savefig(f\"{plots_dir}/matching_geometric_half_circle.png\")"
   ]
  },
  {
   "cell_type": "markdown",
   "id": "6e168f6e-755f-4a0b-b261-1101d039649e",
   "metadata": {},
   "source": [
    "Next, we consider a more general example, where we consider two metric spaces related by a common vertex set. We can do this with grayscale images."
   ]
  },
  {
   "cell_type": "code",
   "execution_count": null,
   "id": "47da7d1a-a168-4ed2-90fa-b3646e491499",
   "metadata": {},
   "outputs": [],
   "source": []
  }
 ],
 "metadata": {
  "kernelspec": {
   "display_name": "Python 3 (ipykernel)",
   "language": "python",
   "name": "python3"
  },
  "language_info": {
   "codemirror_mode": {
    "name": "ipython",
    "version": 3
   },
   "file_extension": ".py",
   "mimetype": "text/x-python",
   "name": "python",
   "nbconvert_exporter": "python",
   "pygments_lexer": "ipython3",
   "version": "3.10.12"
  }
 },
 "nbformat": 4,
 "nbformat_minor": 5
}
