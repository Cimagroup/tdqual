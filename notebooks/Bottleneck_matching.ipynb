{
 "cells": [
  {
   "cell_type": "markdown",
   "id": "28a146c5-a0a6-4590-802d-7a943166f599",
   "metadata": {},
   "source": [
    "Here we present a quick example for computing matching diagrams and densities."
   ]
  },
  {
   "cell_type": "code",
   "execution_count": null,
   "id": "1cf569ad-c296-4947-81c0-2d1f09b5a5c4",
   "metadata": {},
   "outputs": [],
   "source": [
    "import numpy as np\n",
    "import matplotlib.pyplot as plt\n",
    "import matplotlib as mpl\n",
    "\n",
    "import scipy.spatial.distance as dist\n",
    "import itertools\n",
    "\n",
    "import tdqual.topological_data_quality_0 as tdqual\n",
    "\n",
    "import os \n",
    "plots_dir = \"plots/quickexample/\"\n",
    "os.makedirs(plots_dir, exist_ok=True)"
   ]
  },
  {
   "cell_type": "markdown",
   "id": "283cdaff-6ed2-4ca6-bedb-79ef5d451eef",
   "metadata": {},
   "source": [
    "Let us generate a point sample."
   ]
  },
  {
   "cell_type": "code",
   "execution_count": null,
   "id": "5b2de483-8d7a-4f23-8e26-4df4c8e8e8fe",
   "metadata": {},
   "outputs": [],
   "source": [
    "RandGen = np.random.default_rng(2)\n",
    "# # Generate Random Sample\n",
    "Z = tdqual.sampled_circle(0,2,100, RandGen)\n",
    "X_indices = RandGen.choice(Z.shape[0],30, replace=False)\n",
    "Z[X_indices]+=[1,0]\n",
    "Z[X_indices]*=[1,2]\n",
    "X =Z[X_indices]\n",
    "# Plot point cloud\n",
    "fig, ax = plt.subplots(ncols=1, figsize=(3,3))\n",
    "ax.scatter(X[:,0], X[:,1], color=mpl.colormaps[\"RdBu\"](0.3/1.3), s=60, marker=\"o\", zorder=2)\n",
    "ax.scatter(Z[:,0], Z[:,1], color=mpl.colormaps[\"RdBu\"](1/1.3), s=40, marker=\"x\", zorder=1)\n",
    "ax.set_axis_off()\n",
    "plt.savefig(plots_dir + \"points_0.png\")"
   ]
  },
  {
   "cell_type": "markdown",
   "id": "c9712dc7-2a4a-4081-acc8-65cf5e44753b",
   "metadata": {},
   "source": [
    "Next, we sort the points so that the first $\\# X$ points from $Z$ are those from $X$."
   ]
  },
  {
   "cell_type": "code",
   "execution_count": null,
   "id": "74593a66-b01d-493e-ae20-151a2e1cb4aa",
   "metadata": {},
   "outputs": [],
   "source": [
    "# Sort indices of points in Z, so that \n",
    "X_compl = np.ones(Z.shape[0], dtype=\"bool\")\n",
    "X_compl[X_indices] = False\n",
    "Z = np.vstack((Z[X_indices], Z[X_compl]))\n",
    "X_indices = range(len(X_indices))\n",
    "X = Z[X_indices]"
   ]
  },
  {
   "cell_type": "code",
   "execution_count": null,
   "id": "9079db59-8cf3-4ba2-bafe-4d0edc5e603a",
   "metadata": {},
   "outputs": [],
   "source": [
    "X_indices"
   ]
  },
  {
   "cell_type": "markdown",
   "id": "1a4f2027-63fd-436d-b931-41b42231751b",
   "metadata": {},
   "source": [
    "Next, we compute the endpoints of the domain, the codomain and the matching."
   ]
  },
  {
   "cell_type": "code",
   "execution_count": null,
   "id": "cd67992c-a423-45b3-b2c9-3eb9e299cff6",
   "metadata": {},
   "outputs": [],
   "source": [
    "filt_X, filt_Z, matching = tdqual.compute_Mf_0(X, Z)"
   ]
  },
  {
   "cell_type": "markdown",
   "id": "3f898681-b36f-4b93-ba4e-0a988de26aad",
   "metadata": {},
   "source": [
    "Let us compute the matching barcodes."
   ]
  },
  {
   "cell_type": "code",
   "execution_count": null,
   "id": "2ed5248c-37d3-425f-8cd0-8f54f3e949cb",
   "metadata": {},
   "outputs": [],
   "source": [
    "fig, ax = plt.subplots(figsize=(7,2.5))\n",
    "tdqual.plot_matching_0(filt_X, filt_Z, matching, ax)\n",
    "plt.tight_layout()\n",
    "plt.savefig(plots_dir + \"block_matching_0.png\")"
   ]
  },
  {
   "cell_type": "markdown",
   "id": "d5b256ff-8323-4160-a7c3-0a16ac47d029",
   "metadata": {},
   "source": [
    "Next, we plot the matching diagram."
   ]
  },
  {
   "cell_type": "code",
   "execution_count": null,
   "id": "f00c98ea-cd1a-4e9e-841f-10dceb714135",
   "metadata": {},
   "outputs": [],
   "source": [
    "fig, ax = plt.subplots(figsize=(3,3))\n",
    "D_f, multiplicities = tdqual.compute_matching_diagram(filt_X, filt_Z, matching, _tol=1e-5)\n",
    "tdqual.plot_matching_diagram(D_f, ax)\n",
    "plt.tight_layout()\n",
    "plt.savefig(plots_dir + \"matching_diagram_0.png\")"
   ]
  },
  {
   "cell_type": "code",
   "execution_count": null,
   "id": "43367871-e827-47dc-83e9-2dcf2119f830",
   "metadata": {},
   "outputs": [],
   "source": [
    "import gudhi"
   ]
  },
  {
   "cell_type": "code",
   "execution_count": null,
   "id": "3835cdba-9757-4226-b320-447055f10854",
   "metadata": {},
   "outputs": [],
   "source": [
    "D_f_O = D_f[D_f[:,0] < np.inf]\n",
    "# D_f_O = np.copy(D_f)\n",
    "D_f_O = np.vstack([D_f_O[:,1], D_f_O[:,0]]).transpose()\n",
    "fig, ax = plt.subplots(figsize=(3,3))\n",
    "tdqual.plot_matching_diagram(D_f_O, ax)"
   ]
  },
  {
   "cell_type": "code",
   "execution_count": null,
   "id": "4e20d14b-03c9-4604-96e1-6c2e2edc3b72",
   "metadata": {},
   "outputs": [],
   "source": [
    "\n",
    "gudhi.bottleneck_distance(D_f_O, D_f_O)"
   ]
  },
  {
   "cell_type": "code",
   "execution_count": null,
   "id": "57f0f733-7fc1-450c-be62-09aa7f9cb0e9",
   "metadata": {},
   "outputs": [],
   "source": [
    "RandGen = np.random.default_rng(5)\n",
    "# # Generate Random Sample\n",
    "Z1 = tdqual.sampled_circle(0,2,100, RandGen)\n",
    "X1_indices = RandGen.choice(Z1.shape[0],30, replace=False)\n",
    "Z1[X1_indices]+=[1,0]\n",
    "Z1[X1_indices]*=[1,2]\n",
    "X1 =Z1[X1_indices]\n",
    "# Plot point cloud\n",
    "fig, ax = plt.subplots(ncols=1, figsize=(3,3))\n",
    "ax.scatter(X1[:,0], X1[:,1], color=mpl.colormaps[\"RdBu\"](0.3/1.3), s=60, marker=\"o\", zorder=2)\n",
    "ax.scatter(Z1[:,0], Z1[:,1], color=mpl.colormaps[\"RdBu\"](1/1.3), s=40, marker=\"x\", zorder=1)\n",
    "ax.set_axis_off()"
   ]
  },
  {
   "cell_type": "code",
   "execution_count": null,
   "id": "148a72f6-2597-442e-b1a6-1641c3b97dbb",
   "metadata": {},
   "outputs": [],
   "source": [
    "# Sort indices of points in Z, so that \n",
    "X1_compl = np.ones(Z1.shape[0], dtype=\"bool\")\n",
    "X1_compl[X1_indices] = False\n",
    "Z1 = np.vstack((Z1[X1_indices], Z1[X1_compl]))\n",
    "X1_indices = range(len(X1_indices))\n",
    "X1 = Z1[X1_indices]"
   ]
  },
  {
   "cell_type": "code",
   "execution_count": null,
   "id": "9b370e62-b355-4cb8-80c7-fc83d77f8bf3",
   "metadata": {},
   "outputs": [],
   "source": [
    "filt_X1, filt_Z1, matching1 = tdqual.compute_Mf_0(X1, Z1)\n",
    "D_f1, multiplicities1 = tdqual.compute_matching_diagram(filt_X1, filt_Z1, matching1, _tol=1e-5)\n",
    "fig, ax = plt.subplots(figsize=(3,3))\n",
    "tdqual.plot_matching_diagram(D_f1, ax)\n",
    "plt.tight_layout()\n",
    "plt.savefig(plots_dir + \"matching_diagram_0.png\")"
   ]
  },
  {
   "cell_type": "code",
   "execution_count": null,
   "id": "83e7050c-56e1-406e-9b0b-dbe4c37988d4",
   "metadata": {},
   "outputs": [],
   "source": [
    "D_f_O1 = D_f1[D_f1[:,0] < np.inf]\n",
    "# D_f_O = np.copy(D_f)\n",
    "D_f_O1 = np.vstack([D_f_O1[:,1], D_f_O1[:,0]]).transpose()\n",
    "fig, ax = plt.subplots(figsize=(3,3))\n",
    "tdqual.plot_matching_diagram(D_f_O1, ax)"
   ]
  },
  {
   "cell_type": "code",
   "execution_count": null,
   "id": "e611ff70-f19f-4b66-ac79-621b80c0f8ee",
   "metadata": {},
   "outputs": [],
   "source": [
    "gudhi.bottleneck_distance(D_f_O, D_f_O1)"
   ]
  },
  {
   "cell_type": "markdown",
   "id": "f88985b3-cce5-44f0-abbb-dfa44bf3152a",
   "metadata": {},
   "source": [
    "And finally, we plot the density of this matching diagram. For this, we compute first a representation of $D(f)$ and read also the points from the cokernel."
   ]
  },
  {
   "cell_type": "code",
   "execution_count": null,
   "id": "9b17de14-4a85-4125-823a-eb09101ab53a",
   "metadata": {},
   "outputs": [],
   "source": [
    "# Representation of D(f)\n",
    "D_f_rep = []\n",
    "for i, pair in enumerate(D_f):\n",
    "    for j in range(multiplicities[i]):\n",
    "        D_f_rep += list(pair)\n",
    "\n",
    "D_f_rep = np.array(D_f_rep).reshape(-1,2) # saved into a numpy array\n",
    "# Representation of coker(f)\n",
    "coker_f_X = D_f[D_f[:,0]==np.inf][:,1]\n",
    "coker_f_mult = np.array(multiplicities)[D_f[:,0]==np.inf]\n",
    "coker_f_rep = []\n",
    "for i, end in enumerate(coker_f_X):\n",
    "    coker_f_rep += [end]*coker_f_mult[i]"
   ]
  },
  {
   "cell_type": "code",
   "execution_count": null,
   "id": "8fc63a3e-d829-4497-a683-2182c5420d5c",
   "metadata": {},
   "outputs": [],
   "source": [
    "tdqual.plot_density_matching_diagram(D_f_rep, coker_f_rep, plots_dir + \"density_matrix_0.png\", nbins=10, show_colorbar=True)"
   ]
  },
  {
   "cell_type": "code",
   "execution_count": null,
   "id": "85d9479d-19a5-4d4d-a46d-37cbd9778edf",
   "metadata": {},
   "outputs": [],
   "source": []
  }
 ],
 "metadata": {
  "kernelspec": {
   "display_name": "Python 3 (ipykernel)",
   "language": "python",
   "name": "python3"
  },
  "language_info": {
   "codemirror_mode": {
    "name": "ipython",
    "version": 3
   },
   "file_extension": ".py",
   "mimetype": "text/x-python",
   "name": "python",
   "nbconvert_exporter": "python",
   "pygments_lexer": "ipython3",
   "version": "3.10.12"
  }
 },
 "nbformat": 4,
 "nbformat_minor": 5
}
