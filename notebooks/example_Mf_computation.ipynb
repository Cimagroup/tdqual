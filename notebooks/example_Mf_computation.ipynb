{
 "cells": [
  {
   "cell_type": "code",
   "execution_count": null,
   "id": "405a6d7c-0aab-4c46-9812-2e0521bfaf56",
   "metadata": {},
   "outputs": [],
   "source": [
    "import numpy as np\n",
    "import matplotlib.pyplot as plt\n",
    "import matplotlib as mpl\n",
    "\n",
    "import scipy.spatial.distance as dist\n",
    "import itertools\n",
    "\n",
    "import tdqual.topological_data_quality_0 as tdqual\n",
    "\n",
    "import os \n",
    "plots_dir = \"plots/example_computation/\"\n",
    "os.makedirs(plots_dir, exist_ok=True)"
   ]
  },
  {
   "cell_type": "markdown",
   "id": "3c074035-5e9c-41f0-b925-840fce459ffb",
   "metadata": {},
   "source": [
    "To make some plots from this notebook, we need to install GUDHI for working with simplicial complexes in an easy way."
   ]
  },
  {
   "cell_type": "code",
   "execution_count": null,
   "id": "86bcb396-e343-4e2e-970d-d8aae7ab45b8",
   "metadata": {},
   "outputs": [],
   "source": [
    "# pip install gudhi\n",
    "import gudhi"
   ]
  },
  {
   "cell_type": "markdown",
   "id": "02221a65-0679-411e-860a-da7f04f87b3b",
   "metadata": {},
   "source": [
    "# Computation of Block Function in dimension 0\n",
    "\n",
    "Consider the following example, with points taken from a sample.\n",
    "\n",
    "We consider 7 points and a sample of three points. "
   ]
  },
  {
   "cell_type": "code",
   "execution_count": null,
   "id": "81ede3f5-0f0b-43a8-aeec-bd55eb5c11a4",
   "metadata": {},
   "outputs": [],
   "source": [
    "RandGen = np.random.default_rng(2)\n",
    "# # Generate Random Sample\n",
    "Z = tdqual.sampled_circle(0,2,6, RandGen)\n",
    "X_indices = RandGen.choice(Z.shape[0],3, replace=False)\n",
    "# Sort Z so that the first # X points are from X, also, modify some points and save \n",
    "X_compl = np.ones(Z.shape[0], dtype=\"bool\")\n",
    "X_compl[X_indices] = False\n",
    "Z = np.vstack((Z[X_indices], Z[X_compl]))\n",
    "Z[3] = [-0.1,0]\n",
    "Z[4] = [0.4,0]\n",
    "Z[5] = [0.15,np.sqrt(0.5**2 - 0.25**2)]\n",
    "X_indices = range(len(X_indices))\n",
    "np.savetxt(\"Z_example_new.txt\", Z, fmt=\"%.4f\")\n",
    "np.savetxt(\"X_idx_example_new.txt\", X_indices, fmt=\"%d\")\n",
    "# Load Z and X_indices from files \n",
    "Z = np.loadtxt(\"Z_example_new.txt\")\n",
    "X_indices = np.loadtxt(\"X_idx_example_new.txt\", dtype=\"int\")\n",
    "X = Z[X_indices]\n",
    "# Plot point cloud\n",
    "fig, ax = plt.subplots(ncols=1, figsize=(3,3))\n",
    "ax.scatter(X[:,0], X[:,1], color=mpl.colormaps[\"RdBu\"](0.3/1.3), s=60, marker=\"o\", zorder=2)\n",
    "ax.scatter(Z[:,0], Z[:,1], color=mpl.colormaps[\"RdBu\"](1/1.3), s=40, marker=\"x\", zorder=1)\n",
    "ax.set_axis_off()\n",
    "plt.savefig(plots_dir + \"points_0.png\")"
   ]
  },
  {
   "cell_type": "markdown",
   "id": "c2445317-01d2-4015-b752-9cb804fbc73d",
   "metadata": {},
   "source": [
    "We plot, for illustration, the Vietoris-Rips complex at a sequence of values"
   ]
  },
  {
   "cell_type": "code",
   "execution_count": null,
   "id": "52911078-d43b-4604-99d4-a2d14915f6ab",
   "metadata": {},
   "outputs": [],
   "source": [
    "### Geometric Matching \n",
    "def compute_components(edgelist, num_points):\n",
    "    components = np.array(range(num_points))\n",
    "    for edge in edgelist:\n",
    "        max_idx = np.max(components[edge])\n",
    "        min_idx = np.min(components[edge])\n",
    "        indices = np.nonzero(components == components[max_idx])[0]\n",
    "        components[indices]=np.ones(len(indices))*components[min_idx]\n",
    "    \n",
    "    return components"
   ]
  },
  {
   "cell_type": "code",
   "execution_count": null,
   "id": "1318e21a-3d02-4426-98b7-ce65fa99f044",
   "metadata": {},
   "outputs": [],
   "source": [
    "def plot_Vietoris_Rips_subset(Z, X_indices, filt_val, ax, labels=False, fontsize=15):\n",
    "    X = Z[X_indices]\n",
    "    # Plot point cloud\n",
    "    if labels:\n",
    "        ax.scatter(X[:,0], X[:,1], color=mpl.colormaps[\"RdBu\"](0.3/1.3), s=230, marker=\"o\", zorder=2)\n",
    "        ax.scatter(Z[:,0], Z[:,1], color=mpl.colormaps[\"RdBu\"](1/1.3), s=230, marker=\"o\", zorder=1)\n",
    "    else:\n",
    "        ax.scatter(X[:,0], X[:,1], color=mpl.colormaps[\"RdBu\"](0.3/1.3), s=60, marker=\"o\", zorder=2)\n",
    "        ax.scatter(Z[:,0], Z[:,1], color=mpl.colormaps[\"RdBu\"](1/1.3), s=40, marker=\"o\", zorder=1)\n",
    "    # Plot simplicial complex \n",
    "    rips_complex = gudhi.RipsComplex(points=Z, max_edge_length=filt_val)\n",
    "    simplex_tree = rips_complex.create_simplex_tree(max_dimension=1)\n",
    "    simplex_tree.expansion(2)\n",
    "    edgelist = []\n",
    "    for filtered_value in simplex_tree.get_filtration():\n",
    "        simplex = filtered_value[0]\n",
    "        if len(simplex)==2:\n",
    "            edgelist.append(simplex)\n",
    "            if len(np.intersect1d(simplex, X_indices))==2:\n",
    "                ax.plot(Z[simplex][:,0], Z[simplex][:,1], linewidth=2, c=mpl.colormaps[\"RdBu\"](0.3/1.3), zorder=0.5)\n",
    "            else:\n",
    "                ax.plot(Z[simplex][:,0], Z[simplex][:,1], linewidth=2, c=mpl.colormaps[\"RdBu\"](1/1.3), zorder=0.5)\n",
    "        # if len(simplex)==3:\n",
    "        #     ax.add_patch(mpl.patches.Polygon(Z[simplex], closed=True, facecolor=\"black\", alpha=0.3, zorder=0.2))\n",
    "    ax.set_aspect(\"equal\")\n",
    "    # Adjust margins\n",
    "    xscale = ax.get_xlim()[1]-ax.get_xlim()[0]\n",
    "    yscale = ax.get_ylim()[1]-ax.get_ylim()[0]\n",
    "    xlim = ax.get_xlim()\n",
    "    xlim = (xlim[0]-xscale*0.1, xlim[1]+xscale*0.1)\n",
    "    ax.set_xlim(xlim)\n",
    "    ylim = ax.get_ylim()\n",
    "    ylim = (ylim[0]-yscale*0.1, ylim[1]+yscale*0.1)\n",
    "    ax.set_ylim(ylim)\n",
    "    # Plot labels\n",
    "    if labels:\n",
    "        components = compute_components(edgelist, Z.shape[0])\n",
    "        # Point Labels \n",
    "        for i in range(Z.shape[0]):\n",
    "            ax.text(Z[i,0]-0.035*xscale, Z[i,1]-0.035*yscale, f\"{components[i]}\", fontsize=fontsize, color=\"white\", fontweight=\"bold\")\n",
    "    # Finish with aspect details \n",
    "    ax.set_xticks([])\n",
    "    ax.set_yticks([])"
   ]
  },
  {
   "cell_type": "code",
   "execution_count": null,
   "id": "5aa716fd-947b-4b18-ab02-152bcfcadb1a",
   "metadata": {},
   "outputs": [],
   "source": [
    "filtrations = [0.0, 1, 2, 3]\n",
    "fig, ax = plt.subplots(ncols=len(filtrations), figsize=(3*len(filtrations),3))\n",
    "for j, filt_val in enumerate(filtrations):\n",
    "    plot_Vietoris_Rips_subset(Z, X_indices, filt_val, ax[j])\n",
    "    # Set title \n",
    "    ax[j].set_title(f\"{filt_val:1.1f}\") \n",
    "    #ax[j].set_title(f\"VR_{filt_val:1.1f}(Z) \\subseteq VR_{filt_val:1.1f}(Z)\") \n",
    "plt.savefig(plots_dir + \"VR_filtration.png\")\n"
   ]
  },
  {
   "cell_type": "markdown",
   "id": "a8f414c0-2346-4213-a38b-b1c27fd77811",
   "metadata": {},
   "source": [
    "Repeat computation of Vietoris-Rips complex with labels on vertices and components."
   ]
  },
  {
   "cell_type": "code",
   "execution_count": null,
   "id": "d2c4b194-36ca-4304-8e48-c26697f2aa23",
   "metadata": {},
   "outputs": [],
   "source": [
    "filtrations = [0,1,1.1,1.2, 2.5]\n",
    "fig, ax = plt.subplots(nrows=2, ncols=len(filtrations), figsize=(2.5*len(filtrations),6))\n",
    "for i, filt_val in enumerate(filtrations):\n",
    "    plot_Vietoris_Rips_subset(Z, X_indices, filt_val, ax[0, i], labels=True)\n",
    "    X = Z[X_indices]\n",
    "    plot_Vietoris_Rips_subset(X, [], filt_val, ax[1, i], labels=True)\n",
    "    # Plot point cloud extra large\n",
    "    ax[0,i].set_title(f\"{filt_val:.1f}\")\n",
    "\n",
    "ax[0,0].set_title(\"Dataset\")\n",
    "ax[1,0].set_title(\"Subset\")\n",
    "plt.tight_layout()\n",
    "plt.savefig(plots_dir + \"VR_components.png\")"
   ]
  },
  {
   "cell_type": "markdown",
   "id": "3f438469-e0c4-4b99-bb11-c97640044364",
   "metadata": {},
   "source": [
    "Next, we compute the block function induced by the inclusion $S\\hookrightarrow X$"
   ]
  },
  {
   "cell_type": "code",
   "execution_count": null,
   "id": "88dcf3d2-f114-46a6-9849-bcc76b60c15b",
   "metadata": {},
   "outputs": [],
   "source": [
    "from importlib import reload\n",
    "reload(tdqual)"
   ]
  },
  {
   "cell_type": "code",
   "execution_count": null,
   "id": "fcde7d0f-d954-466a-9569-c70c821b54b2",
   "metadata": {},
   "outputs": [],
   "source": [
    "# filtration_list_Z, pairs_arr_Z = tdqual.filtration_pairs(Z)\n",
    "# filtration_list_X, pairs_arr_X = tdqual.filtration_pairs(X)\n",
    "# F = tdqual.get_inclusion_matrix(pairs_arr_S, pairs_arr_Z, X_indices)\n",
    "# matching = tdqual.get_inclusion_matrix_pivots(F, Z.shape[0])\n",
    "filt_X, filt_Z, matching = tdqual.compute_Mf_0(X, Z, X_indices)"
   ]
  },
  {
   "cell_type": "markdown",
   "id": "554f5e8b-9dbf-437c-a059-38bcf04ab202",
   "metadata": {},
   "source": [
    "We now print some of these values."
   ]
  },
  {
   "cell_type": "code",
   "execution_count": null,
   "id": "256db42e-44fa-4280-9c05-14b28d1000a1",
   "metadata": {},
   "outputs": [],
   "source": [
    "np.set_printoptions(precision=3)\n",
    "print(\"Endpoints from X\")\n",
    "print(np.array(filt_X))\n",
    "print()\n",
    "print(\"Endpoints from Z\")\n",
    "print(np.array(filt_Z))\n",
    "print()\n",
    "print(\"Induced Matching Mf\")\n",
    "print(matching)"
   ]
  },
  {
   "cell_type": "markdown",
   "id": "19cf4c2e-7f78-4682-a0fa-5fae4969336f",
   "metadata": {},
   "source": [
    "Now, we describe the $0$-persistence barcodes in terms of evolution of components."
   ]
  },
  {
   "cell_type": "code",
   "execution_count": null,
   "id": "9f9e29df-9c14-46fe-8cdf-cdd50c3565b8",
   "metadata": {},
   "outputs": [],
   "source": [
    "def plot_merge_tree(endpoints_0, reps_0, ax):\n",
    "    max_x = np.max(endpoints_0)*1.1\n",
    "    num_points = len(endpoints_0)+1\n",
    "    y= np.linspace(0, 0.3*num_points, num_points)\n",
    "    idx_death = []\n",
    "    merging_into= []\n",
    "    death_val = []\n",
    "    for idx, (end, rep) in enumerate(zip(endpoints_0, reps_0)):\n",
    "        ax.plot([0,end], [y[idx], y[idx]], c=mpl.colormaps[\"RdBu\"](1/1.3), linewidth=3, zorder=0.5)\n",
    "        idx_death.append(np.max(rep))\n",
    "        merging_into.append(np.min(rep))\n",
    "        death_val.append(end)\n",
    "    \n",
    "    # merge lines in red\n",
    "    idx_death.append(0)\n",
    "    for idx, (j, death) in enumerate(zip( merging_into, death_val)):\n",
    "        death_merging = idx_death.index(j)\n",
    "        ax.plot([death, death], [y[idx],y[death_merging]], linewidth=3, c=mpl.colormaps[\"RdBu\"](0.3/1.3), zorder=0.5)\n",
    "\n",
    "    xscale = ax.get_xlim()[1]-ax.get_xlim()[0]\n",
    "    yscale = ax.get_ylim()[1]-ax.get_ylim()[0]\n",
    "    for i, idx in enumerate(idx_death):\n",
    "        ax.text(-0.015*xscale, y[i]-0.04*yscale, f\"{idx}\", zorder=0.7, fontsize=10, color=\"white\", fontweight=\"bold\")\n",
    "        if i < len(idx_death)-1:\n",
    "            death_x = endpoints_0[i]\n",
    "            ax.text(death_x-0.015*xscale, y[i]-0.04*yscale, f\"{merging_into[i]}\", zorder=0.7, fontsize=10, color=\"white\", fontweight=\"bold\")\n",
    "\n",
    "    ax.scatter(np.zeros(len(y)),y, s=100, marker=\"o\", color=mpl.colormaps[\"RdBu\"](1/1.3), zorder=0.6)\n",
    "    ax.scatter(endpoints_0, y[:-1], s=100, marker=\"o\", color=mpl.colormaps[\"RdBu\"](0.3/1.3), zorder=0.6)\n",
    "    ax.set_xlim(ax.get_xlim()[0]-0.1*xscale, ax.get_xlim()[1]+0.1*xscale)\n",
    "    ax.set_ylim(ax.get_ylim()[0]-0.1*yscale, ax.get_ylim()[1]+0.1*yscale)\n",
    "    # Top horizontal interval\n",
    "    ax.plot([0,max_x*2], [y[-1],y[-1]], linewidth=3, c=mpl.colormaps[\"RdBu\"](1/1.3), zorder=0.5)\n",
    "    ax.set_yticks([])"
   ]
  },
  {
   "cell_type": "code",
   "execution_count": null,
   "id": "2992d6b8-c264-41f8-ab81-a0b54fbb4cf1",
   "metadata": {},
   "outputs": [],
   "source": [
    "filt_X, pairs_arr_X = tdqual.mst_edge_filtration(X)\n",
    "TMT_X_pairs = tdqual.compute_tmt_pairs(filt_X, pairs_arr_X)\n",
    "filt_Z, pairs_arr_Z = tdqual.mst_edge_filtration(Z)\n",
    "TMT_Z_pairs = tdqual.compute_tmt_pairs(filt_Z, pairs_arr_Z)"
   ]
  },
  {
   "cell_type": "code",
   "execution_count": null,
   "id": "5c80fbfa-789f-4a0c-9eec-ee92cee51df5",
   "metadata": {},
   "outputs": [],
   "source": [
    "fig, ax = plt.subplots(ncols=2, figsize=(9,2.4))\n",
    "plot_merge_tree(filt_X, TMT_X_pairs, ax[0])\n",
    "plot_merge_tree(filt_Z, TMT_Z_pairs, ax[1])\n",
    "ax[0].set_title(\"Merge tree from Z\")\n",
    "ax[1].set_title(\"Merge tree from Z\")\n",
    "ylim = ax[1].get_ylim()\n",
    "ax[1].plot([0.8,0.8], ylim, linewidth=1, color=\"gray\", linestyle=\"--\", zorder=0)\n",
    "plt.tight_layout()\n",
    "plt.savefig(plots_dir + \"merge_trees_X_Z.png\")"
   ]
  },
  {
   "cell_type": "markdown",
   "id": "19086136-0811-40e5-b795-a6042bfb0120",
   "metadata": {},
   "source": [
    "Next, we plot the barcode matching $\\mathcal{M}^0_f$"
   ]
  },
  {
   "cell_type": "code",
   "execution_count": null,
   "id": "951fded2-497e-4bcc-b1d7-bf7d5180106f",
   "metadata": {},
   "outputs": [],
   "source": [
    "fig, ax = plt.subplots(figsize=(7,2.5))\n",
    "tdqual.plot_matching_0(filt_X, filt_Z, matching, ax)\n",
    "plt.tight_layout()\n",
    "plt.savefig(plots_dir + \"block_matching_0.png\")"
   ]
  },
  {
   "cell_type": "markdown",
   "id": "fab33fe4-661b-47b3-9172-df3fa751b0e1",
   "metadata": {},
   "source": [
    "Next, we plot the persistence diagram."
   ]
  },
  {
   "cell_type": "code",
   "execution_count": null,
   "id": "e0ccf1f5-55de-4398-b0ff-6fc539e264fe",
   "metadata": {},
   "outputs": [],
   "source": [
    "fig, ax = plt.subplots(figsize=(3,3))\n",
    "D_f, multiplicities = tdqual.compute_matching_diagram(filt_X, filt_Z, matching, _tol=1e-5)\n",
    "tdqual.plot_matching_diagram(D_f, ax)\n",
    "plt.tight_layout()\n",
    "plt.savefig(plots_dir + \"matching_diagram_0.png\")"
   ]
  },
  {
   "cell_type": "code",
   "execution_count": null,
   "id": "f124ca30-4286-4f94-acff-2dad7157e6e0",
   "metadata": {},
   "outputs": [],
   "source": [
    "D_f.tolist()"
   ]
  },
  {
   "cell_type": "code",
   "execution_count": null,
   "id": "73d39e88-fa07-4647-9623-089ad7f77376",
   "metadata": {},
   "outputs": [],
   "source": [
    "D_f_rep = []\n",
    "for i, pair in enumerate(D_f):\n",
    "    for j in range(multiplicities[i]):\n",
    "        D_f_rep += list(pair)\n",
    "\n",
    "D_f_rep = np.array(D_f_rep).reshape(-1,2)"
   ]
  },
  {
   "cell_type": "code",
   "execution_count": null,
   "id": "340a1d4c-b216-4d00-af70-236b1c44f3c5",
   "metadata": {},
   "outputs": [],
   "source": [
    "D_f_rep"
   ]
  },
  {
   "cell_type": "code",
   "execution_count": null,
   "id": "3083767b-35ef-4588-8234-1642e6efd5c7",
   "metadata": {},
   "outputs": [],
   "source": [
    "fin_D_f = D_f_rep[D_f_rep[:,0]<np.inf]\n",
    "print(fin_D_f)"
   ]
  },
  {
   "cell_type": "code",
   "execution_count": null,
   "id": "07580794-67ef-4a81-a1fa-977a384799d4",
   "metadata": {},
   "outputs": [],
   "source": [
    "coker_f = D_f[D_f[:,0]==np.inf][:,1]"
   ]
  },
  {
   "cell_type": "code",
   "execution_count": null,
   "id": "6e3df0a5-2c82-46e8-a0b7-6c4e02861808",
   "metadata": {},
   "outputs": [],
   "source": [
    "tdqual.plot_density_matching_diagram(D_f_rep, coker_f, plots_dir + \"density_matrix_0.png\", nbins=5, show_colorbar=True)"
   ]
  },
  {
   "cell_type": "code",
   "execution_count": null,
   "id": "931980fc-4adb-496c-8f21-9d1866abbdb5",
   "metadata": {},
   "outputs": [],
   "source": []
  }
 ],
 "metadata": {
  "kernelspec": {
   "display_name": "Python 3 (ipykernel)",
   "language": "python",
   "name": "python3"
  },
  "language_info": {
   "codemirror_mode": {
    "name": "ipython",
    "version": 3
   },
   "file_extension": ".py",
   "mimetype": "text/x-python",
   "name": "python",
   "nbconvert_exporter": "python",
   "pygments_lexer": "ipython3",
   "version": "3.10.12"
  }
 },
 "nbformat": 4,
 "nbformat_minor": 5
}
