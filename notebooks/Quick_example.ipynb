{
 "cells": [
  {
   "cell_type": "markdown",
   "id": "28a146c5-a0a6-4590-802d-7a943166f599",
   "metadata": {},
   "source": [
    "Here we present a quick example for computing matching diagrams and densities."
   ]
  },
  {
   "cell_type": "code",
   "execution_count": null,
   "id": "1cf569ad-c296-4947-81c0-2d1f09b5a5c4",
   "metadata": {},
   "outputs": [],
   "source": [
    "import numpy as np\n",
    "import matplotlib.pyplot as plt\n",
    "import matplotlib as mpl\n",
    "\n",
    "import scipy.spatial.distance as dist\n",
    "import itertools\n",
    "\n",
    "import tdqual.topological_data_quality_0 as tdqual\n",
    "\n",
    "import os \n",
    "plots_dir = \"plots/quickexample/\"\n",
    "os.makedirs(plots_dir, exist_ok=True)"
   ]
  },
  {
   "cell_type": "markdown",
   "id": "283cdaff-6ed2-4ca6-bedb-79ef5d451eef",
   "metadata": {},
   "source": [
    "Let us generate a point sample."
   ]
  },
  {
   "cell_type": "code",
   "execution_count": null,
   "id": "5b2de483-8d7a-4f23-8e26-4df4c8e8e8fe",
   "metadata": {},
   "outputs": [],
   "source": [
    "RandGen = np.random.default_rng(2)\n",
    "# # Generate Random Sample\n",
    "X = tdqual.sampled_circle(0,2,30, RandGen)\n",
    "S_indices = RandGen.choice(X.shape[0],15, replace=False)\n",
    "X[S_indices]+=[1,0]\n",
    "# Sort \n",
    "S_compl = np.ones(X.shape[0], dtype=\"bool\")\n",
    "S_compl[S_indices] = False\n",
    "X = np.vstack((X[S_indices], X[S_compl]))\n",
    "S_indices = range(len(S_indices))\n",
    "S = X[S_indices]\n",
    "# Plot point cloud\n",
    "fig, ax = plt.subplots(ncols=1, figsize=(3,3))\n",
    "ax.scatter(S[:,0], S[:,1], color=mpl.colormaps[\"RdBu\"](0.3/1.3), s=60, marker=\"o\", zorder=2)\n",
    "ax.scatter(X[:,0], X[:,1], color=mpl.colormaps[\"RdBu\"](1/1.3), s=40, marker=\"x\", zorder=1)\n",
    "ax.set_axis_off()\n",
    "plt.savefig(plots_dir + \"points_0.png\")"
   ]
  },
  {
   "cell_type": "markdown",
   "id": "1a4f2027-63fd-436d-b931-41b42231751b",
   "metadata": {},
   "source": [
    "Next, we compute the endpoints of the domain, the codomain and the matching."
   ]
  },
  {
   "cell_type": "code",
   "execution_count": null,
   "id": "cd67992c-a423-45b3-b2c9-3eb9e299cff6",
   "metadata": {},
   "outputs": [],
   "source": [
    "filtration_list_X, pairs_arr_X = tdqual.filtration_pairs(X) # Codomain endpoints\n",
    "filtration_list_S, pairs_arr_S = tdqual.filtration_pairs(S) # Domain endpoints\n",
    "F = tdqual.get_inclusion_matrix(pairs_arr_S, pairs_arr_X, S_indices) # Associated matrix\n",
    "matching = tdqual.get_inclusion_matrix_pivots(F, X.shape[0]) # Matching"
   ]
  },
  {
   "cell_type": "markdown",
   "id": "3f898681-b36f-4b93-ba4e-0a988de26aad",
   "metadata": {},
   "source": [
    "Let us compute the matching barcodes."
   ]
  },
  {
   "cell_type": "code",
   "execution_count": null,
   "id": "2ed5248c-37d3-425f-8cd0-8f54f3e949cb",
   "metadata": {},
   "outputs": [],
   "source": [
    "fig, ax = plt.subplots(figsize=(7,2.5))\n",
    "tdqual.plot_matching_0(filtration_list_S, filtration_list_X, matching, ax)\n",
    "plt.tight_layout()\n",
    "plt.savefig(plots_dir + \"block_matching_0.png\")"
   ]
  },
  {
   "cell_type": "markdown",
   "id": "d5b256ff-8323-4160-a7c3-0a16ac47d029",
   "metadata": {},
   "source": [
    "Next, we plot the matching diagram."
   ]
  },
  {
   "cell_type": "code",
   "execution_count": null,
   "id": "f00c98ea-cd1a-4e9e-841f-10dceb714135",
   "metadata": {},
   "outputs": [],
   "source": [
    "fig, ax = plt.subplots(figsize=(3,3))\n",
    "D_f, multiplicities = tdqual.compute_matching_diagram(filtration_list_S, filtration_list_X, matching, _tol=1e-5)\n",
    "tdqual.plot_matching_diagram(D_f, ax)\n",
    "plt.tight_layout()\n",
    "plt.savefig(plots_dir + \"matching_diagram_0.png\")"
   ]
  },
  {
   "cell_type": "markdown",
   "id": "f88985b3-cce5-44f0-abbb-dfa44bf3152a",
   "metadata": {},
   "source": [
    "And finally, we plot the density of this matching diagram. For this, we compute first a representation of $D(f)$ and read also the points from the cokernel."
   ]
  },
  {
   "cell_type": "code",
   "execution_count": null,
   "id": "9b17de14-4a85-4125-823a-eb09101ab53a",
   "metadata": {},
   "outputs": [],
   "source": [
    "# Representation of D(f)\n",
    "D_f_rep = []\n",
    "for i, pair in enumerate(D_f):\n",
    "    for j in range(multiplicities[i]):\n",
    "        D_f_rep += list(pair)\n",
    "\n",
    "D_f_rep = np.array(D_f_rep).reshape(-1,2) # saved into a numpy array\n",
    "# Representation of coker(f)\n",
    "coker_f_S = D_f[D_f[:,0]==np.inf][:,1]\n",
    "coker_f_mult = np.array(multiplicities)[D_f[:,0]==np.inf]\n",
    "coker_f_rep = []\n",
    "for i, end in enumerate(coker_f_S):\n",
    "    coker_f_rep += [end]*coker_f_mult[i]"
   ]
  },
  {
   "cell_type": "code",
   "execution_count": null,
   "id": "8fc63a3e-d829-4497-a683-2182c5420d5c",
   "metadata": {},
   "outputs": [],
   "source": [
    "tdqual.plot_density_matching_diagram(D_f_rep, coker_f_rep, plots_dir + \"density_matrix_0.png\", nbins=5, show_colorbar=True)"
   ]
  },
  {
   "cell_type": "code",
   "execution_count": null,
   "id": "85d9479d-19a5-4d4d-a46d-37cbd9778edf",
   "metadata": {},
   "outputs": [],
   "source": []
  }
 ],
 "metadata": {
  "kernelspec": {
   "display_name": "Python 3 (ipykernel)",
   "language": "python",
   "name": "python3"
  },
  "language_info": {
   "codemirror_mode": {
    "name": "ipython",
    "version": 3
   },
   "file_extension": ".py",
   "mimetype": "text/x-python",
   "name": "python",
   "nbconvert_exporter": "python",
   "pygments_lexer": "ipython3",
   "version": "3.10.12"
  }
 },
 "nbformat": 4,
 "nbformat_minor": 5
}
