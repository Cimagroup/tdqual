{
 "cells": [
  {
   "cell_type": "markdown",
   "id": "28a146c5-a0a6-4590-802d-7a943166f599",
   "metadata": {},
   "source": [
    "Here we present a quick example for computing matching diagrams and densities."
   ]
  },
  {
   "cell_type": "code",
   "execution_count": null,
   "id": "1cf569ad-c296-4947-81c0-2d1f09b5a5c4",
   "metadata": {},
   "outputs": [],
   "source": [
    "import numpy as np\n",
    "import matplotlib.pyplot as plt\n",
    "import matplotlib as mpl\n",
    "\n",
    "import scipy.spatial.distance as dist\n",
    "import itertools\n",
    "\n",
    "import tdqual.topological_data_quality_0 as tdqual\n",
    "\n",
    "import os \n",
    "plots_dir = \"plots/quickexample/\"\n",
    "os.makedirs(plots_dir, exist_ok=True)"
   ]
  },
  {
   "cell_type": "markdown",
   "id": "283cdaff-6ed2-4ca6-bedb-79ef5d451eef",
   "metadata": {},
   "source": [
    "Let us generate a point sample and visualise it."
   ]
  },
  {
   "cell_type": "code",
   "execution_count": null,
   "id": "5b2de483-8d7a-4f23-8e26-4df4c8e8e8fe",
   "metadata": {},
   "outputs": [],
   "source": [
    "RandGen = np.random.default_rng(2)\n",
    "# # Generate Random Sample\n",
    "Z = tdqual.sampled_circle(0,2,30, RandGen)\n",
    "X_indices = RandGen.choice(Z.shape[0], 15, replace=False)\n",
    "Z[X_indices]+=[1,0]\n",
    "X = Z[X_indices]\n",
    "# Plot point cloud\n",
    "fig, ax = plt.subplots(ncols=1, figsize=(3,3))\n",
    "ax.scatter(X[:,0], X[:,1], color=mpl.colormaps[\"RdBu\"](0.3/1.3), s=60, marker=\"o\", zorder=2)\n",
    "ax.scatter(Z[:,0], Z[:,1], color=mpl.colormaps[\"RdBu\"](1/1.3), s=40, marker=\"x\", zorder=1)\n",
    "ax.set_axis_off()\n",
    "plt.savefig(plots_dir + \"points_0.png\")"
   ]
  },
  {
   "cell_type": "markdown",
   "id": "bbda71a9-de4e-45d1-be0d-2ddb0f6e1201",
   "metadata": {},
   "source": [
    "Next, we sort the points so that the first $\\# X$ points from $Z$ are those from $X$."
   ]
  },
  {
   "cell_type": "code",
   "execution_count": null,
   "id": "06507376-5a0e-47f3-bf43-703250409e39",
   "metadata": {},
   "outputs": [],
   "source": [
    "# Sort indices of points in Z, so that \n",
    "X_compl = np.ones(Z.shape[0], dtype=\"bool\")\n",
    "X_compl[X_indices] = False\n",
    "Z = np.vstack((Z[X_indices], Z[X_compl]))\n",
    "X_indices = range(len(X_indices))\n",
    "X = Z[X_indices]"
   ]
  },
  {
   "cell_type": "markdown",
   "id": "1a4f2027-63fd-436d-b931-41b42231751b",
   "metadata": {},
   "source": [
    "Next, we compute the Minimum Spanning Trees $\\textrm{MST}(X)$ and $\\textrm{MST}(Z)$ for the pair $X\\subseteq Z$."
   ]
  },
  {
   "cell_type": "code",
   "execution_count": null,
   "id": "9a92214d-2e49-4846-bf41-425b1969c9de",
   "metadata": {},
   "outputs": [],
   "source": [
    "filtration_list_X, pairs_arr_X = tdqual.mst_edge_filtration(X) # MST(X)\n",
    "filtration_list_Z, pairs_arr_Z = tdqual.mst_edge_filtration(Z) # MST(Z)"
   ]
  },
  {
   "cell_type": "markdown",
   "id": "43382605-5814-4337-a399-13d35ef65a86",
   "metadata": {},
   "source": [
    "We can do the same computation by giving the distance matrices of $X$ and $Z$ respectively."
   ]
  },
  {
   "cell_type": "code",
   "execution_count": null,
   "id": "d7abf8e9-ae28-4042-b764-f058d62bc4ea",
   "metadata": {},
   "outputs": [],
   "source": [
    "import scipy.spatial.distance as dist\n",
    "Dist_X = dist.squareform(dist.pdist(X))\n",
    "Dist_Z = dist.squareform(dist.pdist(Z))\n",
    "filtration_list_X_from_dist, pairs_arr_X_from_dist = tdqual.mst_edge_filtration(Dist_X, is_dist=True) # MST(X)\n",
    "filtration_list_Z_from_dist, pairs_arr_Z_from_dist = tdqual.mst_edge_filtration(Dist_Z, is_dist=True) # MST(Z)\n",
    "# Check that both outputs are equal\n",
    "_tol=10e-8\n",
    "assert len(filtration_list_X_from_dist)==len(filtration_list_X)\n",
    "assert len(filtration_list_Z_from_dist)==len(filtration_list_Z)\n",
    "assert np.all(np.abs(np.array(filtration_list_X_from_dist)-np.array(filtration_list_X))<_tol)\n",
    "assert np.all(np.abs(np.array(filtration_list_Z_from_dist)-np.array(filtration_list_Z))<_tol)\n",
    "assert pairs_arr_X_from_dist.shape==pairs_arr_X.shape\n",
    "assert pairs_arr_Z_from_dist.shape==pairs_arr_Z.shape\n",
    "assert np.all(np.abs(np.array(pairs_arr_X_from_dist)-np.array(pairs_arr_X))<_tol)\n",
    "assert np.all(np.abs(np.array(pairs_arr_Z_from_dist)-np.array(pairs_arr_Z))<_tol)"
   ]
  },
  {
   "cell_type": "markdown",
   "id": "e1fd0466-f560-4caa-bba2-e9e2895ec5d9",
   "metadata": {},
   "source": [
    "Now, we compute the Triplet Merge Trees $\\textrm{TMT}(X)$ and $\\textrm{TMT}(Z)$"
   ]
  },
  {
   "cell_type": "code",
   "execution_count": null,
   "id": "4c44c567-a58f-4c60-b1ad-7f84b472b044",
   "metadata": {},
   "outputs": [],
   "source": [
    "TMT_X_pairs = tdqual.compute_tmt_pairs(filtration_list_X, pairs_arr_X)\n",
    "TMT_Z_pairs = tdqual.compute_tmt_pairs(filtration_list_Z, pairs_arr_Z)"
   ]
  },
  {
   "cell_type": "markdown",
   "id": "15bfd32a-3739-48ba-945b-855c57ea24c9",
   "metadata": {},
   "source": [
    "Next, we take from TMT_Z_pairs the pairs restricted to points from X"
   ]
  },
  {
   "cell_type": "code",
   "execution_count": null,
   "id": "d01ac75f-d1cd-47d4-a675-f1aa2e101446",
   "metadata": {},
   "outputs": [],
   "source": [
    "indices_X_Z = np.max(TMT_Z_pairs, axis=1)<X.shape[0]\n",
    "TMT_X_Z_pairs = TMT_Z_pairs[indices_X_Z]\n",
    "indices_X_Z = np.nonzero(indices_X_Z)[0]"
   ]
  },
  {
   "cell_type": "markdown",
   "id": "2eab7c95-d3b0-4f96-9d67-b42bb0c36deb",
   "metadata": {},
   "source": [
    "Next, we compute the associated matrix $F^X$, restricted to the indices of the subset, and the induced matching."
   ]
  },
  {
   "cell_type": "code",
   "execution_count": null,
   "id": "f31883b2-8c12-4fa8-ae05-aabd263d84c0",
   "metadata": {},
   "outputs": [],
   "source": [
    "FX = tdqual.get_inclusion_matrix(TMT_X_pairs, TMT_X_Z_pairs) # Associated matrix\n",
    "matchingX = tdqual.get_inclusion_matrix_pivots(FX, Z.shape[0]) # Matching in TMT_X_Z\n",
    "matching =[indices_X_Z[i] for i in matchingX] # Matching in all TMT_Z"
   ]
  },
  {
   "cell_type": "markdown",
   "id": "3f898681-b36f-4b93-ba4e-0a988de26aad",
   "metadata": {},
   "source": [
    "Let us compute the matching barcodes."
   ]
  },
  {
   "cell_type": "code",
   "execution_count": null,
   "id": "2ed5248c-37d3-425f-8cd0-8f54f3e949cb",
   "metadata": {},
   "outputs": [],
   "source": [
    "fig, ax = plt.subplots(figsize=(7,2.5))\n",
    "tdqual.plot_matching_0(filtration_list_X, filtration_list_Z, matching, ax)\n",
    "plt.tight_layout()\n",
    "plt.savefig(plots_dir + \"block_matching_0.png\")"
   ]
  },
  {
   "cell_type": "markdown",
   "id": "d5b256ff-8323-4160-a7c3-0a16ac47d029",
   "metadata": {},
   "source": [
    "Next, we plot the matching diagram."
   ]
  },
  {
   "cell_type": "code",
   "execution_count": null,
   "id": "f00c98ea-cd1a-4e9e-841f-10dceb714135",
   "metadata": {},
   "outputs": [],
   "source": [
    "fig, ax = plt.subplots(figsize=(3,3))\n",
    "D_f, multiplicities = tdqual.compute_matching_diagram(filtration_list_X, filtration_list_Z, matching, _tol=1e-5)\n",
    "tdqual.plot_matching_diagram(D_f, ax)\n",
    "plt.tight_layout()\n",
    "plt.savefig(plots_dir + \"matching_diagram_0.png\")"
   ]
  },
  {
   "cell_type": "markdown",
   "id": "f88985b3-cce5-44f0-abbb-dfa44bf3152a",
   "metadata": {},
   "source": [
    "And finally, we plot the density of this matching diagram. For this, we compute first a representation of $D(f)$ and read also the points from the cokernel."
   ]
  },
  {
   "cell_type": "code",
   "execution_count": null,
   "id": "9b17de14-4a85-4125-823a-eb09101ab53a",
   "metadata": {},
   "outputs": [],
   "source": [
    "# Representation of D(f)\n",
    "D_f_rep = []\n",
    "for i, pair in enumerate(D_f):\n",
    "    for j in range(multiplicities[i]):\n",
    "        D_f_rep += list(pair)\n",
    "\n",
    "D_f_rep = np.array(D_f_rep).reshape(-1,2) # saved into a numpy array\n",
    "# Representation of coker(f)\n",
    "coker_f_X = D_f[D_f[:,0]==np.inf][:,1]\n",
    "coker_f_mult = np.array(multiplicities)[D_f[:,0]==np.inf]\n",
    "coker_f_rep = []\n",
    "for i, end in enumerate(coker_f_X):\n",
    "    coker_f_rep += [end]*coker_f_mult[i]"
   ]
  },
  {
   "cell_type": "code",
   "execution_count": null,
   "id": "8fc63a3e-d829-4497-a683-2182c5420d5c",
   "metadata": {},
   "outputs": [],
   "source": [
    "tdqual.plot_density_matching_diagram(D_f_rep, coker_f_rep, plots_dir + \"density_matrix_0.png\", nbins=5, show_colorbar=True)"
   ]
  },
  {
   "cell_type": "code",
   "execution_count": null,
   "id": "85d9479d-19a5-4d4d-a46d-37cbd9778edf",
   "metadata": {},
   "outputs": [],
   "source": []
  }
 ],
 "metadata": {
  "kernelspec": {
   "display_name": "Python 3 (ipykernel)",
   "language": "python",
   "name": "python3"
  },
  "language_info": {
   "codemirror_mode": {
    "name": "ipython",
    "version": 3
   },
   "file_extension": ".py",
   "mimetype": "text/x-python",
   "name": "python",
   "nbconvert_exporter": "python",
   "pygments_lexer": "ipython3",
   "version": "3.10.12"
  }
 },
 "nbformat": 4,
 "nbformat_minor": 5
}
